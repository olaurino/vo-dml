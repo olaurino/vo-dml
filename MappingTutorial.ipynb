{
 "metadata": {
  "name": "",
  "signature": "sha256:f3f0d053d2fbf8b0a3e83ed74f258426fdc86925ffd1ec9a23a12a595b22eb15"
 },
 "nbformat": 3,
 "nbformat_minor": 0,
 "worksheets": [
  {
   "cells": [
    {
     "cell_type": "markdown",
     "metadata": {},
     "source": [
      "Notebook description\n",
      "--------------------\n",
      "\n",
      "This notebook shows how a \"naive\" client can serialize and deserialize instances according to the\n",
      "*Mapping Data Model Instances to VOTable* Working Draft.\n",
      "\n",
      "The following examples __may not be complete, general, or efficient__. Their goal is to show in a practical way\n",
      "how one can use UTYPEs to serialize and deserialize instances of Data Models in VOTable. Actual implementations may vary significantly and depend on the local setup, requirements, and programming language.\n",
      "\n",
      "We say that a client is na\u00efve if:\n",
      "1. it\tdoes\tnot\tparse\tthe\tVO-DML\tdescription\tfile\n",
      "2. it\tassumes\tthe\ta\tpriori\tknowledge\tof\tone\tor\tmore\tData\tModels\n",
      "3. it\tdiscovers\tinformation\tby\tlooking\tfor\ta\tset\tof\tpredefined\tUTYPEs\tin\tthe\tVOTable\n",
      "\n",
      "Serializing instances is generally easier than deserializing them. By introducing deserialization first, step by step, serialization patterns should become clear, and serializing instances should then be straightforward."
     ]
    },
    {
     "cell_type": "markdown",
     "metadata": {},
     "source": [
      "Data Model\n",
      "----------\n",
      "\n",
      "In this tutorial we will use a very simplistic Data Model for STC:\n",
      "\n",
      "<img src=\"images/stcxClassDiagram.png\"/>\n",
      "\n",
      "The above figure represents a UML Class Diagram, i.e. a conceptual representation of the domain under study, in this case a small subset of Space Time Coordinates. \n",
      "\n",
      "This model defines these vodml-ids:\n",
      "\n",
      "    SkyCoordinate                (type) \n",
      "    SkyCoordinate.longitude\n",
      "    SkyCoordinate.latitude\n",
      "    SkyCoordinateFrame           (type)\n",
      "    SkyCoordinateFrame.name\n",
      "    SkyCoordinateFrame.equinox\n",
      "    \n",
      "UTYPEs are pointers that refer to vodml-ids with the following syntax:\n",
      "\n",
      "    <<model_id>>:<<vodml_id>>\n",
      "    \n",
      "The model_id for STCX is stcx, so:\n",
      "\n",
      "    stcx:SkyCoordinate\n",
      "    \n",
      "is a UTYPE pointing to the SkyCoordinate type in STCX."
     ]
    },
    {
     "cell_type": "markdown",
     "metadata": {},
     "source": [
      "A note to VOTable serialization\n",
      "------------\n",
      "\n",
      "According to the *Mapping Data Model Instances to VOTable*, a VOTable *must* include a preamble that declares the data models used in the file. This signals readers that the VOTable falls under the *Mapping* specification, and allows more advanced clients to get a copy of the standard model description file (VO-DML/XML).\n",
      "\n",
      "For such clients, the preamble also provides a resolution mechanism for the model prefixes (more information below).\n",
      "\n",
      "Naive clients, however, assume a priori knowledge of the data model, so they do not parse the VO-DML/XML file, and they can assume globally unique prefixes."
     ]
    },
    {
     "cell_type": "markdown",
     "metadata": {},
     "source": [
      "The file `positions.xml` contains a list of positions, represented in the following UML Object Diagram\n",
      "\n",
      "<img src=\"images/positionsObjectDiagram.png\"/>\n",
      "\n",
      "A UML Object Diagram represents specific instances of the model described by the Class Diagram. In this case, the class diagram describes the attributes of generic sky positions, while the object diagram represent some specific values of sky positions.\n",
      "\n",
      "The following cells will show how to retrieve information about such instances using the *Mapping* specification."
     ]
    },
    {
     "cell_type": "markdown",
     "metadata": {},
     "source": [
      "We will use the `lxml` Python package to parse the VOTable as an XML,\n",
      "to serialize and deserialize instances. For deserialization we will mostly use `XPATH` strings. "
     ]
    },
    {
     "cell_type": "code",
     "collapsed": false,
     "input": [
      "import lxml.etree as ET\n",
      "pos_vot = ET.parse('positions.xml').getroot()"
     ],
     "language": "python",
     "metadata": {},
     "outputs": [],
     "prompt_number": 1
    },
    {
     "cell_type": "markdown",
     "metadata": {},
     "source": [
      "VO-DML special UTYPEs\n",
      "---------------------\n",
      "Some special UTYPEs are used to mark-up VOTable and work as handles for clients.\n",
      "\n",
      "In particular, `vo-dml:Instance.root` tags `GROUP` elements that contain an instance representation according to the *Mapping* specification.\n",
      "\n",
      "On the other hand, `vo-dml:Instance.type` is used as the @utype attribute of `PARAMs` in `GROUPs` to store the type of the instance serialized in the `GROUP` itself.\n",
      "\n",
      "The mapping is recursive, so an instance inside an instance will be represented by a `GROUP` nested inside a `GROUP`.\n",
      "\n",
      "However, only the first `GROUP` in the hierarchy (the *root*) will have the @utype set to `vo-dml:Instance.root`, while\n",
      "the nested `GROUPs` may have at least one `PARAM` with @utype=`vo-dml:Instance.type`.\n",
      "\n",
      "So, the following command finds all the instance representations that the Data Provider serialized in the file, but other instances may be nested."
     ]
    },
    {
     "cell_type": "code",
     "collapsed": false,
     "input": [
      "pos_vot.findall('.//GROUP[@utype=\"vo-dml:Instance.root\"]')"
     ],
     "language": "python",
     "metadata": {},
     "outputs": [
      {
       "metadata": {},
       "output_type": "pyout",
       "prompt_number": 2,
       "text": [
        "[<Element GROUP at 0x1033707e8>, <Element GROUP at 0x103370998>]"
       ]
      }
     ],
     "prompt_number": 2
    },
    {
     "cell_type": "markdown",
     "metadata": {},
     "source": [
      "The following command shows how to get all instance representations of a specific type, in this case a `SkyCoordinate`.\n",
      "\n",
      "The idea is to get all the `GROUPs` having a `PARAM` with @utype=\"vo-dml:Instance.type\" and @value=\"ref:source.stc.SkyCoordinate\", that is the ID of the `SkyCoordinate` class in the VO-DML description of the example model."
     ]
    },
    {
     "cell_type": "code",
     "collapsed": false,
     "input": [
      "positions = pos_vot.xpath('''.//GROUP[PARAM[@utype=\"vo-dml:Instance.type\"\n",
      "                                            and\n",
      "                                            @value=\"stcx:SkyCoordinate\"]]''')\n",
      "print len(positions)"
     ],
     "language": "python",
     "metadata": {},
     "outputs": [
      {
       "output_type": "stream",
       "stream": "stdout",
       "text": [
        "2\n"
       ]
      }
     ],
     "prompt_number": 3
    },
    {
     "cell_type": "markdown",
     "metadata": {},
     "source": [
      "Although the file contains four positions, only two `GROUPs` are found."
     ]
    },
    {
     "cell_type": "markdown",
     "metadata": {},
     "source": [
      "Direct vs indirect representation\n",
      "--------------------------\n",
      "\n",
      "In the `positions.xml` file, there are two `GROUPs` representing `SkyCoordinates`, i.e. positions in the sky according to a very simplistic STC model.\n",
      "\n",
      "One `GROUP` is an example of a *direct* serialization, i.e., a `GROUP` that has no `FIELDrefs`, but only `PARAMs` (and the same is true for any nested `GROUPs` therein).\n",
      "\n",
      "A direct serialization is completely defined by its `GROUP` as all the values are defined for the instance.\n",
      "\n",
      "The other `GROUP`, instead, is an example of an *indirect* serialization, as the root `GROUP`, or any of its nested `GROUPs` have `FIELDref` in them. So, the `GROUP` represents a kind of *template* for instances that have values stored in table cells.\n",
      "\n",
      "So, one `GROUP` represents a complete instance, the other represents a template for positions that are serialized in the table, in different rows. In fact, the table in `positions.xml` contains three rows."
     ]
    },
    {
     "cell_type": "markdown",
     "metadata": {},
     "source": [
      "The following code prints the values of *longitude* and *latitude* for the direct serialization `GROUP`, by using the UTYPEs defined in the model for these attributes of a `SkyCoordinate` class to find the `PARAMs` olding the actual values."
     ]
    },
    {
     "cell_type": "code",
     "collapsed": false,
     "input": [
      "for position in positions:\n",
      "    # FIND PARAMs for longitude and latitude, using UTYPEs\n",
      "    longitude = position.xpath('PARAM[@utype=\"stcx:SkyCoordinate.longitude\"]')\n",
      "    latitude = position.xpath('PARAM[@utype=\"stcx:SkyCoordinate.latitude\"]')\n",
      "    \n",
      "    # IF ANY PARAMs ARE FOUND for longitude\n",
      "    if len(longitude):\n",
      "        # GET THE VALUE\n",
      "        print \"longitude: \", longitude[0].attrib['value']\n",
      "        \n",
      "    # IF ANY PARAMs ARE FOUND for longitude\n",
      "    if len(latitude):\n",
      "        # GET THE VALUE\n",
      "        print \"latitude: \", latitude[0].attrib['value']"
     ],
     "language": "python",
     "metadata": {},
     "outputs": [
      {
       "output_type": "stream",
       "stream": "stdout",
       "text": [
        "longitude:  12.0\n",
        "latitude:  -12.0\n"
       ]
      }
     ],
     "prompt_number": 4
    },
    {
     "cell_type": "markdown",
     "metadata": {},
     "source": [
      "The following code focuses on the indirect serialization to find, by means of UTYPEs, the `FIELD` `ID` and `index` for `latitude` and `longitude`."
     ]
    },
    {
     "cell_type": "code",
     "collapsed": false,
     "input": [
      "for position in positions:\n",
      "    # FIND FIELDrefs for longitude and latitude, using UTYPEs\n",
      "    longitude = position.xpath('FIELDref[@utype=\"stcx:SkyCoordinate.longitude\"]')\n",
      "    latitude = position.xpath('FIELDref[@utype=\"stcx:SkyCoordinate.latitude\"]')\n",
      "    \n",
      "    # IF ANY FIELDrefs ARE FOUND for longitude\n",
      "    if len(longitude):\n",
      "        # GET THE FIELD ID\n",
      "        fid = longitude[0].attrib['ref']\n",
      "        \n",
      "        # GET THE FIELD INDEX\n",
      "        idx = pos_vot.xpath(\"count(.//FIELD[@ID = $fid]/preceding-sibling::FIELD)\", fid=fid)\n",
      "        \n",
      "        # PRINT THE RESULTS\n",
      "        print(\"Longitude ID:{} Index:{}\").format(fid, int(idx))\n",
      "    if len(latitude):\n",
      "        fid = latitude[0].attrib['ref']\n",
      "        idx = pos_vot.xpath(\"count(.//FIELD[@ID = $fid]/preceding-sibling::FIELD)\", fid=fid)\n",
      "        print(\"Latitude ID:{} Index:{}\").format(fid, int(idx))"
     ],
     "language": "python",
     "metadata": {},
     "outputs": [
      {
       "output_type": "stream",
       "stream": "stdout",
       "text": [
        "Longitude ID:_ra Index:0\n",
        "Latitude ID:_dec Index:1\n"
       ]
      }
     ],
     "prompt_number": 5
    },
    {
     "cell_type": "markdown",
     "metadata": {},
     "source": [
      "Recap\n",
      "-----\n",
      "\n",
      "In the above examples we showed how to use UTYPEs to find VOTable elements that make up an instance of a data model class, namely a sky coordinate with longitude and latitude.\n",
      "\n",
      "Important points:\n",
      "  - We are using a simplistic example model that defines some IDs for STC concepts.\n",
      "  - The IDs defined in the model are used in the VOTable to annotate `GROUPs`, `FIELDrefs`, and `PARAMs`.\n",
      "  - The IDs defined in the model are prefixed in VOTable by a string (prefix, or namespace) that identifies the model ('stcx').\n",
      "  - We are assuming the mapping strategies defined in the *Mapping* document.\n",
      "  \n",
      "In other terms, we are assuming direct knowledge of this simple model, and such knowledge is represented by nothing more than the UTYPE strings and domain knowledge regarding STC."
     ]
    },
    {
     "cell_type": "markdown",
     "metadata": {},
     "source": [
      "Functions\n",
      "---------\n",
      "\n",
      "To show how one can do more interesting stuff we can define functions that use UTYPE strings as parameters.\n",
      "\n",
      "The following function assumes that the concept represented by a UTYPE is a column, and fetched the column values as a Python array.\n",
      "\n",
      "*Note: As acknowledged before, this kind of functions are not supposed to be scalable or efficient, and they may not be complete. For example the following function definition (and many others below) does not perform any error handling.*"
     ]
    },
    {
     "cell_type": "code",
     "collapsed": false,
     "input": [
      "def get_column_array(element, utype, type_):\n",
      "    \"\"\"\n",
      "    Given a VOTable element, get the column values for the concept represented by utype,\n",
      "    casting the elements to type_\n",
      "    \"\"\"\n",
      "    \n",
      "    # GET THE FIELDref FOR THE CONCEPT REPRESENTED BY utype\n",
      "    el = element.xpath('FIELDref[@utype=$utype]', utype=utype)\n",
      "    \n",
      "    # IF ANY SUCH FIELDrefs exist\n",
      "    if len(el):\n",
      "        \n",
      "        # GET THE FIELD ID\n",
      "        fid = el[0].attrib['ref']\n",
      "        \n",
      "        # GET THE FIELD INDEX\n",
      "        idx = element.xpath(\"count(//FIELD[@ID = $fid]/preceding-sibling::FIELD)\", fid=fid)+1\n",
      "        \n",
      "        # GET THE TDs for that column\n",
      "        tds = element.xpath('//FIELD[@ID = $fid]/following-sibling::DATA/TABLEDATA/TR/TD[$idx]', fid=fid, idx=int(idx))\n",
      "        \n",
      "        # BUILD AND RETURN THE ARRAY OF VALUES\n",
      "        array = [type_(td.text) for td in tds]\n",
      "        return array\n",
      "\n",
      "    "
     ],
     "language": "python",
     "metadata": {},
     "outputs": [],
     "prompt_number": 6
    },
    {
     "cell_type": "markdown",
     "metadata": {},
     "source": [
      "The following simple helper function checks whether an element has an indirect representations."
     ]
    },
    {
     "cell_type": "code",
     "collapsed": false,
     "input": [
      "def is_indirect(element):\n",
      "    \"\"\"\n",
      "    Return true if the element is an indirect representation\n",
      "    \"\"\"\n",
      "    # LOOK FOR ANY FIELDref INSIDE THE ELEMENT\n",
      "    el = element.xpath('.//FIELDref')\n",
      "    \n",
      "    # RETURN TRUE IF THERE IS AT LEAST ONE FIELDref (INDIRECT REPRESENTATION)\n",
      "    return len(el) > 0"
     ],
     "language": "python",
     "metadata": {},
     "outputs": [],
     "prompt_number": 7
    },
    {
     "cell_type": "markdown",
     "metadata": {},
     "source": [
      "The following example shows how the above functions can be used to get the array of values for a concept serialized in a VOTable.\n",
      "\n",
      "Again, we are only assuming knowledge of the IDs that define the concept in the Data Model."
     ]
    },
    {
     "cell_type": "code",
     "collapsed": false,
     "input": [
      "utype = \"stcx:SkyCoordinate.longitude\"\n",
      "for position in positions:\n",
      "    if is_indirect(position):\n",
      "        print get_column_array(position, utype, float)"
     ],
     "language": "python",
     "metadata": {},
     "outputs": [
      {
       "output_type": "stream",
       "stream": "stdout",
       "text": [
        "[1.0, 2.0, 3.0]\n"
       ]
      }
     ],
     "prompt_number": 8
    },
    {
     "cell_type": "markdown",
     "metadata": {},
     "source": [
      "Helper Functions. A library for VOTable I/O.\n",
      "----------------\n",
      "\n",
      "A few more helper functions are defined below. While they may be interesting as concrete examples of how to do some simple I/O, the interesting reason for their creation is that they represent a I/O specific library that implements the mapping patterns defined in the *Mapping* document.\n",
      "\n",
      "In other terms they show how it is possible to separate the I/O layer from the business layer. These helper functions are general (although not complete for the the sake of simplicity) in the sense that do not depend on the specific model."
     ]
    },
    {
     "cell_type": "code",
     "collapsed": false,
     "input": [
      "def get_cell(element, utype, type_, index):\n",
      "    el = element.xpath('.//FIELDref[@utype=$utype]', utype=utype)\n",
      "    if len(el):\n",
      "        fid = el[0].attrib['ref']\n",
      "        idx = element.xpath(\"count(//FIELD[@ID = $fid]/preceding-sibling::FIELD)\", fid=fid)+1\n",
      "        tds = element.xpath('//FIELD[@ID = $fid]/following-sibling::DATA/TABLEDATA/TR/TD[$idx]', fid=fid, idx=int(idx))\n",
      "        return type_(tds[index].text)\n",
      "    \n",
      "def get_nrows(element):\n",
      "    el = element.xpath('.//FIELDref')\n",
      "    if len(el):\n",
      "        fid = el[0].attrib['ref']\n",
      "        nrows = element.xpath('count(//FIELD[@ID = $fid]/following-sibling::DATA/TABLEDATA/TR)', fid=fid)\n",
      "        return int(nrows)\n",
      "\n",
      "def get_param(element, utype, type_):\n",
      "    el = element.xpath('.//PARAM[@utype=$utype]', utype=utype)\n",
      "    if len(el):\n",
      "        return el[0].attrib['value']\n",
      "\n",
      "def find_type(element, utype):\n",
      "    type_utype = \"vo-dml:Instance.type\"\n",
      "    return element.xpath('.//GROUP[PARAM[@utype=$type_u and @value=$utype]]',\n",
      "                              type_u = type_utype,\n",
      "                              utype = utype)\n",
      "\n",
      "def get_from_field_or_param(element, utype, type_, row):\n",
      "    value = None\n",
      "    if is_indirect(element):\n",
      "        value = get_cell(element, utype, type_, row)\n",
      "    if value is None:\n",
      "        value = get_param(element, utype, type_)\n",
      "    return value\n",
      "\n",
      "def get_column_array_from_field(element, utype, type_):\n",
      "    el = element.xpath(\".//FIELD[@utype=$utype]\", utype=utype)\n",
      "    if len(el):\n",
      "        nrows = el[0].xpath('count(DATA/TABLEDATA/TR)')\n",
      "        idx = el[0].xpath(\"count(preceding-sibling::FIELD)\")+1\n",
      "        tds = el[0].xpath('following-sibling::DATA/TABLEDATA/TR/TD[$idx]', idx=int(idx))\n",
      "        return [type_(td.text) for td in tds]\n",
      "        "
     ],
     "language": "python",
     "metadata": {},
     "outputs": [],
     "prompt_number": 9
    },
    {
     "cell_type": "markdown",
     "metadata": {},
     "source": [
      "Position Class: a simple STCLib\n",
      "-------------------------------\n",
      "\n",
      "The next cell is interesting because it defines a Position class that implements a simple structured object.\n",
      "\n",
      "This class puts the I/O library defined above at work for deserializing instances of positions from VOTable. In order to do so, the class uses three UTYPEs that point to the STCX data model elements."
     ]
    },
    {
     "cell_type": "code",
     "collapsed": false,
     "input": [
      "class Position(object):\n",
      "    position_utype = \"stcx:SkyCoordinate\"\n",
      "    longitude_utype = \"stcx:SkyCoordinate.longitude\"\n",
      "    latitude_utype = \"stcx:SkyCoordinate.latitude\"\n",
      "    \n",
      "    def __init__(self, longitude, latitude):\n",
      "        self.longitude = longitude\n",
      "        self.latitude = latitude\n",
      "    \n",
      "    @staticmethod\n",
      "    def find(element):\n",
      "    \n",
      "        positions = find_type(element, Position.position_utype)\n",
      "        \n",
      "        return_positions = []\n",
      "    \n",
      "        for position in positions:\n",
      "            if is_indirect(position):\n",
      "                nrows = get_nrows(position)\n",
      "                for row in range(nrows):\n",
      "                    longitude = get_from_field_or_param(position, Position.longitude_utype, float, row)\n",
      "                    latitude = get_from_field_or_param(position, Position.latitude_utype, float, row)\n",
      "                    return_positions.append(Position(longitude, latitude))\n",
      "            else:\n",
      "                longitude = get_param(position, Position.longitude_utype, float)\n",
      "                latitude = get_param(position, Position.latitude_utype, float)\n",
      "                return_positions.append(Position(longitude, latitude))\n",
      "                \n",
      "        return return_positions\n",
      "    \n",
      "    def __repr__(self):\n",
      "        return \"Position {{longitude: {}, latitude: {}}}\".format(self.longitude, self.latitude)"
     ],
     "language": "python",
     "metadata": {},
     "outputs": [],
     "prompt_number": 10
    },
    {
     "cell_type": "code",
     "collapsed": false,
     "input": [
      "positions = Position.find(pos_vot)\n",
      "\n",
      "for position in positions:\n",
      "    print position"
     ],
     "language": "python",
     "metadata": {},
     "outputs": [
      {
       "output_type": "stream",
       "stream": "stdout",
       "text": [
        "Position {longitude: 12.0, latitude: -12.0}\n",
        "Position {longitude: 1.0, latitude: 1.1}\n",
        "Position {longitude: 2.0, latitude: 2.1}\n",
        "Position {longitude: 3.0, latitude: 3.1}\n"
       ]
      }
     ],
     "prompt_number": 11
    },
    {
     "cell_type": "markdown",
     "metadata": {},
     "source": [
      "Recap\n",
      "------\n",
      "\n",
      "To sum up:\n",
      " - We defined a number of helper functions that implement some mapping strategies from the Mapping to VOTable specification.\n",
      " - We defined a `Position` class that implements a simplistic STCX model. The implementation uses the helper functions and the vodml-ids defined by the STCX model.\n",
      "\n",
      "In this simplistic example we can identify a generic I/O library made of the helper functions (let's call it **volib**), and a model specific library for STCX, that uses the helper functions (let's call it **stclib**)."
     ]
    },
    {
     "cell_type": "markdown",
     "metadata": {},
     "source": [
      "Source Data Model example\n",
      "-------------------------\n",
      "\n",
      "The STCX Model can be useful if we attach coordinates to *something*. Let's say that this something is a **Source**, according to the following (still simple) Source data model.\n",
      "\n",
      "<img src=\"images/srcClassDiagram.png\"/>\n",
      "\n",
      "In particular, file `catalog.xml` contains a Catalog with three Sources, each of which has a position, as specified in the object diagram below.\n",
      "\n",
      "<img src=\"images/catalogObjectDiagram.png\"/>"
     ]
    },
    {
     "cell_type": "markdown",
     "metadata": {},
     "source": [
      "First of all, we need to load the VOTable using lxml:"
     ]
    },
    {
     "cell_type": "code",
     "collapsed": false,
     "input": [
      "catalog_vot = ET.parse('catalog.xml').getroot()"
     ],
     "language": "python",
     "metadata": {},
     "outputs": [],
     "prompt_number": 12
    },
    {
     "cell_type": "markdown",
     "metadata": {},
     "source": [
      "SRCLib reuses STCLib\n",
      "------------------------\n",
      "\n",
      "The following `Source` and `Catalog` classes implement the types defined in the Source data model, just as `Position` above implemented a class from the STCX model.\n",
      "\n",
      "We might think of these classes as a SRCLib library. Sources have positions that are STCX's `SkyCoordinate`s. The *Mapping* document allows SRCLib to easily reuse the code in STCLib."
     ]
    },
    {
     "cell_type": "code",
     "collapsed": false,
     "input": [
      "class Source(object):\n",
      "    def __init__(self, name, position):\n",
      "        self.name = name\n",
      "        self.position = position\n",
      "\n",
      "    @staticmethod\n",
      "    def find(element):\n",
      "        source_utype = \"src:Source\"\n",
      "        name_utype = \"src:Source.name\"\n",
      "        position_utype = \"src:Source.position\"\n",
      "        \n",
      "        sources = find_type(element, source_utype)\n",
      "        \n",
      "        return_sources = []\n",
      "    \n",
      "        for source in sources:\n",
      "            if is_indirect(source):\n",
      "                nrows = get_nrows(source)\n",
      "                for row in range(nrows):\n",
      "                    name = get_from_field_or_param(source, name_utype, str, row)\n",
      "                    position = Position.find(source)[row]\n",
      "                    return_sources.append(Source(name, position))\n",
      "            else:\n",
      "                name = get_param(source, name_utype, str)\n",
      "                position = Position.find(source)[0]\n",
      "                return_sources.append(Source(name, position))\n",
      "                \n",
      "        return return_sources\n",
      "    \n",
      "    def __repr__(self):\n",
      "        return \"Source {{name: {}, position: {}}}\".format(self.name, self.position)\n",
      "\n",
      "    \n",
      "    \n",
      "class Catalog(object):\n",
      "    def __init__(self, name, description, sources):\n",
      "        self.name = name\n",
      "        self.description = description\n",
      "        self.sources = sources\n",
      "\n",
      "    @staticmethod\n",
      "    def find(element):\n",
      "        catalog_utype = \"src:Catalog\"\n",
      "        name_utype = \"src:Catalog.name\"\n",
      "        description_utype = \"src:Catalog.description\"\n",
      "        source_utype = \"src:Catalog.source\"\n",
      "        \n",
      "        catalogs = find_type(element, catalog_utype)\n",
      "        \n",
      "        return_catalogs = []\n",
      "    \n",
      "        for catalog in catalogs:\n",
      "            if is_indirect(catalog):\n",
      "                nrows = get_nrows(catalog)\n",
      "                for row in range(nrows):\n",
      "                    name = get_from_field_or_param(catalog, name_utype, str, row)\n",
      "                    description = get_from_field_or_param(catalog, description_utype, str, row)\n",
      "                    sources = Source.find(catalog)\n",
      "                    return_catalogs.append(Catalog(name, description, sources))\n",
      "            else:\n",
      "                name = get_param(catalog, name_utype, str)\n",
      "                description = get_param(catalog, description_utype, str)\n",
      "                sources = Source.find(catalog, source_utype)\n",
      "                return_catalogs.append(Catalog(name, description, sources))\n",
      "                \n",
      "        return return_catalogs\n",
      "    \n",
      "    def __repr__(self):\n",
      "        ret = \"Catalog {{name: {}, description: {}, sources:\\n\".format(self.name, self.description)\n",
      "        for source in self.sources:\n",
      "            ret += '\\t\\t'+ repr(source)+'\\n'\n",
      "        ret+='}'\n",
      "        return ret"
     ],
     "language": "python",
     "metadata": {},
     "outputs": [],
     "prompt_number": 13
    },
    {
     "cell_type": "markdown",
     "metadata": {},
     "source": [
      "One can access objects at any level of the instances hierarchy, for example one can get all `Source`s in the file:"
     ]
    },
    {
     "cell_type": "code",
     "collapsed": false,
     "input": [
      "sources = Source.find(catalog_vot)\n",
      "\n",
      "for source in sources:\n",
      "    print source.name, source.position.longitude, source.position.latitude"
     ],
     "language": "python",
     "metadata": {},
     "outputs": [
      {
       "output_type": "stream",
       "stream": "stdout",
       "text": [
        "SOURCE_1 1.0 1.1\n",
        "SOURCE_2 2.0 2.1\n",
        "SOURCE_3 3.0 3.1\n"
       ]
      }
     ],
     "prompt_number": 14
    },
    {
     "cell_type": "markdown",
     "metadata": {},
     "source": [
      "Or one can access the main catalog object:"
     ]
    },
    {
     "cell_type": "code",
     "collapsed": false,
     "input": [
      "catalog = Catalog.find(catalog_vot)[0]\n",
      "print catalog"
     ],
     "language": "python",
     "metadata": {},
     "outputs": [
      {
       "output_type": "stream",
       "stream": "stdout",
       "text": [
        "Catalog {name: My Catalog, description: My Description, sources:\n",
        "\t\tSource {name: SOURCE_1, position: Position {longitude: 1.0, latitude: 1.1}}\n",
        "\t\tSource {name: SOURCE_2, position: Position {longitude: 2.0, latitude: 2.1}}\n",
        "\t\tSource {name: SOURCE_3, position: Position {longitude: 3.0, latitude: 3.1}}\n",
        "}\n"
       ]
      }
     ],
     "prompt_number": 15
    },
    {
     "cell_type": "markdown",
     "metadata": {},
     "source": [
      "We can still access individual positions, by using STCLib:"
     ]
    },
    {
     "cell_type": "code",
     "collapsed": false,
     "input": [
      "positions = Position.find(catalog_vot)\n",
      "for position in positions:\n",
      "    print position"
     ],
     "language": "python",
     "metadata": {},
     "outputs": [
      {
       "output_type": "stream",
       "stream": "stdout",
       "text": [
        "Position {longitude: 12.00000, latitude: -12.00000}\n",
        "Position {longitude: 1.0, latitude: 1.1}\n",
        "Position {longitude: 2.0, latitude: 2.1}\n",
        "Position {longitude: 3.0, latitude: 3.1}\n"
       ]
      }
     ],
     "prompt_number": 16
    },
    {
     "cell_type": "markdown",
     "metadata": {},
     "source": [
      "*Old* and Custom UTYPEs\n",
      "----------------\n",
      "\n",
      "The `catalog.xml` file also contain some *old-style* STC UTYPEs:\n",
      "- stc:AstroCoords.Position2D.Value2.C1\n",
      "- stc:AstroCoords.Position2D.Value2.C1\n",
      "\n",
      "The *Mapping* document allows such UTYPEs to live side-by-side with the *new-style* ones, and the following call shows how one can access the same data using such UTYPEs. Notice however, that the modular implementation we explored in this tutorial is not possible with the *old-style* UTYPEs."
     ]
    },
    {
     "cell_type": "code",
     "collapsed": false,
     "input": [
      "print get_column_array_from_field(catalog_vot, \"stc:AstroCoords.Position2D.Value2.C1\", float)"
     ],
     "language": "python",
     "metadata": {},
     "outputs": [
      {
       "output_type": "stream",
       "stream": "stdout",
       "text": [
        "[1.0, 2.0, 3.0]\n"
       ]
      }
     ],
     "prompt_number": 17
    },
    {
     "cell_type": "markdown",
     "metadata": {},
     "source": [
      "Data Providers: How to serialize instances\n",
      "------------------------------------------\n",
      "\n",
      "Serializing instance is much easier than deserializing them, at least for data providers, who do not need to implement the specifications in a complete way. Helper tools, on the other hands, must be smarter, and they can help data providers or users even further.\n",
      "\n",
      "To keep code simple and intuitive the example below does not produce a valid VOTable.\n",
      "\n",
      "The following function just enables pretty-printing of the XML."
     ]
    },
    {
     "cell_type": "code",
     "collapsed": false,
     "input": [
      "from xml.dom import minidom\n",
      "\n",
      "def prettify(elem):\n",
      "    rough_string = ET.tostring(elem)\n",
      "    reparsed = minidom.parseString(rough_string)\n",
      "    return reparsed.toprettyxml(indent=\"  \")"
     ],
     "language": "python",
     "metadata": {},
     "outputs": [],
     "prompt_number": 18
    },
    {
     "cell_type": "markdown",
     "metadata": {},
     "source": [
      "The following function serialize a catalog instance like the one we deserialized in the first part of the tutorial.\n",
      "\n",
      "The code should be rather self-explanatory."
     ]
    },
    {
     "cell_type": "code",
     "collapsed": true,
     "input": [
      "def print_catalog(catalog):\n",
      "    resource = ET.Element(\"RESOURCE\")\n",
      "    table = ET.SubElement(resource, \"TABLE\")\n",
      "    \n",
      "    catalog_repr = ET.SubElement(table, \"GROUP\",\n",
      "                                 utype = \"vo-dml:Instance.root\")\n",
      "    \n",
      "    ET.SubElement(catalog_repr, \"PARAM\",\n",
      "                  utype = \"vo-dml:Instance.type\",\n",
      "                  value = \"src:Catalog\")\n",
      "    \n",
      "    ET.SubElement(catalog_repr, \"PARAM\",\n",
      "                  utype = \"src:Catalog.name\",\n",
      "                  value = catalog.name)\n",
      "    \n",
      "    ET.SubElement(catalog_repr, \"PARAM\",\n",
      "                  utype = \"src:Catalog.description\",\n",
      "                  value = catalog.description)\n",
      "    \n",
      "    source_repr = ET.SubElement(catalog_repr, \"GROUP\",\n",
      "                                  utype = \"Catalog.source\")\n",
      "    \n",
      "    ET.SubElement(source_repr, \"PARAM\",\n",
      "                  utype = \"vo-dml:Instance.type\",\n",
      "                  value = \"src:Source\")\n",
      "    \n",
      "    ET.SubElement(source_repr, \"FIELDref\",\n",
      "                  utype = \"src:Source.name\",\n",
      "                  ref = \"_name\")\n",
      "    \n",
      "    position_repr = ET.SubElement(source_repr, \"GROUP\",\n",
      "                                  utype = \"Source.position\")\n",
      "    \n",
      "    ET.SubElement(position_repr, \"PARAM\",\n",
      "                  utype = \"vo-dml:Instance.type\",\n",
      "                  value = \"stcx:SkyCoordinate\")\n",
      "    \n",
      "    ET.SubElement(position_repr, \"FIELDref\",\n",
      "                  utype = \"stcx:SkyCoordinate.longitude\",\n",
      "                  ref = \"_long\")\n",
      "    \n",
      "    ET.SubElement(position_repr, \"FIELDref\",\n",
      "                  utype = \"stcx:SkyCoordinate.longitude\",\n",
      "                  ref = \"_lat\")\n",
      "    \n",
      "    ET.SubElement(table, \"FIELD\",\n",
      "                  ID=\"_name\")\n",
      "    \n",
      "    ET.SubElement(table, \"FIELD\",\n",
      "                  ID=\"_long\")\n",
      "    \n",
      "    ET.SubElement(table, \"FIELD\",\n",
      "                  ID=\"_lat\")\n",
      "    \n",
      "    data = ET.SubElement(table, \"DATA\")\n",
      "    \n",
      "    tabledata = ET.SubElement(data, \"TABLEDATA\")\n",
      "    \n",
      "    for source in catalog.sources:\n",
      "        row = ET.SubElement(tabledata, \"TR\")\n",
      "        ET.SubElement(row, \"TD\").text = source.name\n",
      "        ET.SubElement(row, \"TD\").text = str(source.position.longitude)\n",
      "        ET.SubElement(row, \"TD\").text = str(source.position.latitude)\n",
      "        \n",
      "        \n",
      "\n",
      "    \n",
      "    print prettify(resource)"
     ],
     "language": "python",
     "metadata": {},
     "outputs": [],
     "prompt_number": 19
    },
    {
     "cell_type": "code",
     "collapsed": false,
     "input": [
      "print_catalog(catalog)"
     ],
     "language": "python",
     "metadata": {},
     "outputs": [
      {
       "output_type": "stream",
       "stream": "stdout",
       "text": [
        "<?xml version=\"1.0\" ?>\n",
        "<RESOURCE>\n",
        "  <TABLE>\n",
        "    <GROUP utype=\"vo-dml:Instance.root\">\n",
        "      <PARAM utype=\"vo-dml:Instance.type\" value=\"src:Catalog\"/>\n",
        "      <PARAM utype=\"src:Catalog.name\" value=\"My Catalog\"/>\n",
        "      <PARAM utype=\"src:Catalog.description\" value=\"My Description\"/>\n",
        "      <GROUP utype=\"Catalog.source\">\n",
        "        <PARAM utype=\"vo-dml:Instance.type\" value=\"src:Source\"/>\n",
        "        <FIELDref ref=\"_name\" utype=\"src:Source.name\"/>\n",
        "        <GROUP utype=\"Source.position\">\n",
        "          <PARAM utype=\"vo-dml:Instance.type\" value=\"stcx:SkyCoordinate\"/>\n",
        "          <FIELDref ref=\"_long\" utype=\"stcx:SkyCoordinate.longitude\"/>\n",
        "          <FIELDref ref=\"_lat\" utype=\"stcx:SkyCoordinate.longitude\"/>\n",
        "        </GROUP>\n",
        "      </GROUP>\n",
        "    </GROUP>\n",
        "    <FIELD ID=\"_name\"/>\n",
        "    <FIELD ID=\"_long\"/>\n",
        "    <FIELD ID=\"_lat\"/>\n",
        "    <DATA>\n",
        "      <TABLEDATA>\n",
        "        <TR>\n",
        "          <TD>SOURCE_1</TD>\n",
        "          <TD>1.0</TD>\n",
        "          <TD>1.1</TD>\n",
        "        </TR>\n",
        "        <TR>\n",
        "          <TD>SOURCE_2</TD>\n",
        "          <TD>2.0</TD>\n",
        "          <TD>2.1</TD>\n",
        "        </TR>\n",
        "        <TR>\n",
        "          <TD>SOURCE_3</TD>\n",
        "          <TD>3.0</TD>\n",
        "          <TD>3.1</TD>\n",
        "        </TR>\n",
        "      </TABLEDATA>\n",
        "    </DATA>\n",
        "  </TABLE>\n",
        "</RESOURCE>\n",
        "\n"
       ]
      }
     ],
     "prompt_number": 20
    },
    {
     "cell_type": "code",
     "collapsed": false,
     "input": [],
     "language": "python",
     "metadata": {},
     "outputs": []
    }
   ],
   "metadata": {}
  }
 ]
}